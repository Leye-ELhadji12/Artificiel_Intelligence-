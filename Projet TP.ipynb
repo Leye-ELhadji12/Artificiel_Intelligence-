{
 "cells": [
  {
   "cell_type": "markdown",
   "metadata": {},
   "source": [
    "# Étude\tcomparative\tdes\tmodèles\tde\tclassification"
   ]
  },
  {
   "cell_type": "markdown",
   "metadata": {},
   "source": [
    "Intallation des Bibliothèques tels que pandas, Scikit-learn et Matplotlib"
   ]
  },
  {
   "cell_type": "code",
   "execution_count": 1,
   "metadata": {},
   "outputs": [
    {
     "name": "stdout",
     "output_type": "stream",
     "text": [
      "Requirement already satisfied: pandas in c:\\users\\lenovo\\appdata\\local\\programs\\python\\python311\\lib\\site-packages (2.1.3)\n",
      "Requirement already satisfied: numpy<2,>=1.23.2 in c:\\users\\lenovo\\appdata\\local\\programs\\python\\python311\\lib\\site-packages (from pandas) (1.24.1)\n",
      "Requirement already satisfied: python-dateutil>=2.8.2 in c:\\users\\lenovo\\appdata\\local\\programs\\python\\python311\\lib\\site-packages (from pandas) (2.8.2)\n",
      "Requirement already satisfied: pytz>=2020.1 in c:\\users\\lenovo\\appdata\\local\\programs\\python\\python311\\lib\\site-packages (from pandas) (2022.7.1)\n",
      "Requirement already satisfied: tzdata>=2022.1 in c:\\users\\lenovo\\appdata\\local\\programs\\python\\python311\\lib\\site-packages (from pandas) (2022.7)\n",
      "Requirement already satisfied: six>=1.5 in c:\\users\\lenovo\\appdata\\local\\programs\\python\\python311\\lib\\site-packages (from python-dateutil>=2.8.2->pandas) (1.16.0)\n"
     ]
    }
   ],
   "source": [
    "# Installation de Pandas : Une bibliothèque pour la manipulation et l'analyse des données.\n",
    "! pip install pandas"
   ]
  },
  {
   "cell_type": "code",
   "execution_count": 2,
   "metadata": {},
   "outputs": [
    {
     "name": "stdout",
     "output_type": "stream",
     "text": [
      "Requirement already satisfied: scikit-learn in c:\\users\\lenovo\\appdata\\local\\programs\\python\\python311\\lib\\site-packages (1.2.1)\n",
      "Requirement already satisfied: numpy>=1.17.3 in c:\\users\\lenovo\\appdata\\local\\programs\\python\\python311\\lib\\site-packages (from scikit-learn) (1.24.1)\n",
      "Requirement already satisfied: scipy>=1.3.2 in c:\\users\\lenovo\\appdata\\local\\programs\\python\\python311\\lib\\site-packages (from scikit-learn) (1.10.1)\n",
      "Requirement already satisfied: joblib>=1.1.1 in c:\\users\\lenovo\\appdata\\local\\programs\\python\\python311\\lib\\site-packages (from scikit-learn) (1.2.0)\n",
      "Requirement already satisfied: threadpoolctl>=2.0.0 in c:\\users\\lenovo\\appdata\\local\\programs\\python\\python311\\lib\\site-packages (from scikit-learn) (3.1.0)\n"
     ]
    }
   ],
   "source": [
    "# Installation de Scikit-learn(sklearn) : Une bibliothèque pour l'apprentissage automatique qui inclut divers algorithmes \n",
    "# et outils pour l'analyse de données.\n",
    "! pip install scikit-learn"
   ]
  },
  {
   "cell_type": "code",
   "execution_count": 3,
   "metadata": {},
   "outputs": [
    {
     "name": "stdout",
     "output_type": "stream",
     "text": [
      "Requirement already satisfied: matplotlib in c:\\users\\lenovo\\appdata\\local\\programs\\python\\python311\\lib\\site-packages (3.7.0)\n",
      "Requirement already satisfied: contourpy>=1.0.1 in c:\\users\\lenovo\\appdata\\local\\programs\\python\\python311\\lib\\site-packages (from matplotlib) (1.0.7)\n",
      "Requirement already satisfied: cycler>=0.10 in c:\\users\\lenovo\\appdata\\local\\programs\\python\\python311\\lib\\site-packages (from matplotlib) (0.11.0)\n",
      "Requirement already satisfied: fonttools>=4.22.0 in c:\\users\\lenovo\\appdata\\local\\programs\\python\\python311\\lib\\site-packages (from matplotlib) (4.38.0)\n",
      "Requirement already satisfied: kiwisolver>=1.0.1 in c:\\users\\lenovo\\appdata\\local\\programs\\python\\python311\\lib\\site-packages (from matplotlib) (1.4.4)\n",
      "Requirement already satisfied: numpy>=1.20 in c:\\users\\lenovo\\appdata\\local\\programs\\python\\python311\\lib\\site-packages (from matplotlib) (1.24.1)\n",
      "Requirement already satisfied: packaging>=20.0 in c:\\users\\lenovo\\appdata\\local\\programs\\python\\python311\\lib\\site-packages (from matplotlib) (23.0)\n",
      "Requirement already satisfied: pillow>=6.2.0 in c:\\users\\lenovo\\appdata\\local\\programs\\python\\python311\\lib\\site-packages (from matplotlib) (9.4.0)\n",
      "Requirement already satisfied: pyparsing>=2.3.1 in c:\\users\\lenovo\\appdata\\local\\programs\\python\\python311\\lib\\site-packages (from matplotlib) (3.0.9)\n",
      "Requirement already satisfied: python-dateutil>=2.7 in c:\\users\\lenovo\\appdata\\local\\programs\\python\\python311\\lib\\site-packages (from matplotlib) (2.8.2)\n",
      "Requirement already satisfied: six>=1.5 in c:\\users\\lenovo\\appdata\\local\\programs\\python\\python311\\lib\\site-packages (from python-dateutil>=2.7->matplotlib) (1.16.0)\n"
     ]
    }
   ],
   "source": [
    "# Installation de Matplotlib : Une bibliothèque pour la création de graphiques et de visualisations.\n",
    "! pip install matplotlib"
   ]
  },
  {
   "cell_type": "markdown",
   "metadata": {},
   "source": [
    "Importation des librairies"
   ]
  },
  {
   "cell_type": "code",
   "execution_count": 4,
   "metadata": {},
   "outputs": [],
   "source": [
    "import pandas as pd\n",
    "from sklearn.model_selection import train_test_split\n",
    "from sklearn.linear_model import LogisticRegression\n",
    "from sklearn.tree import DecisionTreeClassifier\n",
    "from sklearn.naive_bayes import GaussianNB\n",
    "from sklearn.svm import SVC\n",
    "from sklearn.metrics import precision_recall_curve\n",
    "import matplotlib.pyplot as plt\n",
    "from sklearn.metrics import precision_recall_fscore_support"
   ]
  },
  {
   "cell_type": "markdown",
   "metadata": {},
   "source": [
    " Chargement des données fichier diabetes.csv dans la variable data\n"
   ]
  },
  {
   "cell_type": "code",
   "execution_count": 5,
   "metadata": {},
   "outputs": [],
   "source": [
    "data = pd.read_csv('diabetes.csv')\n",
    "# NB : le projet projet.ipynb et le fichier diabetes.csv sont dans le meme dossier"
   ]
  },
  {
   "cell_type": "code",
   "execution_count": 6,
   "metadata": {},
   "outputs": [
    {
     "data": {
      "text/plain": [
       "(768, 9)"
      ]
     },
     "execution_count": 6,
     "metadata": {},
     "output_type": "execute_result"
    }
   ],
   "source": [
    "data.shape"
   ]
  },
  {
   "cell_type": "code",
   "execution_count": 7,
   "metadata": {},
   "outputs": [
    {
     "name": "stdout",
     "output_type": "stream",
     "text": [
      "Pregnancies 17\n",
      "Glucose 136\n",
      "Bloodpressure 47\n",
      "Skinthickness 51\n",
      "Insulin 186\n",
      "BMI 248\n",
      "Diabetespedigreefunction 517\n",
      "Age 52\n",
      "Outcome 2\n"
     ]
    }
   ],
   "source": [
    "for col in data.columns:\n",
    "    print(col, len(data[col].unique()))"
   ]
  },
  {
   "cell_type": "code",
   "execution_count": 8,
   "metadata": {},
   "outputs": [
    {
     "data": {
      "text/html": [
       "<div>\n",
       "<style scoped>\n",
       "    .dataframe tbody tr th:only-of-type {\n",
       "        vertical-align: middle;\n",
       "    }\n",
       "\n",
       "    .dataframe tbody tr th {\n",
       "        vertical-align: top;\n",
       "    }\n",
       "\n",
       "    .dataframe thead th {\n",
       "        text-align: right;\n",
       "    }\n",
       "</style>\n",
       "<table border=\"1\" class=\"dataframe\">\n",
       "  <thead>\n",
       "    <tr style=\"text-align: right;\">\n",
       "      <th></th>\n",
       "      <th>Pregnancies</th>\n",
       "      <th>Glucose</th>\n",
       "      <th>Bloodpressure</th>\n",
       "      <th>Skinthickness</th>\n",
       "      <th>Insulin</th>\n",
       "      <th>BMI</th>\n",
       "      <th>Diabetespedigreefunction</th>\n",
       "      <th>Age</th>\n",
       "      <th>Outcome</th>\n",
       "    </tr>\n",
       "  </thead>\n",
       "  <tbody>\n",
       "    <tr>\n",
       "      <th>0</th>\n",
       "      <td>6</td>\n",
       "      <td>148</td>\n",
       "      <td>72</td>\n",
       "      <td>35</td>\n",
       "      <td>0</td>\n",
       "      <td>33.6</td>\n",
       "      <td>0.627</td>\n",
       "      <td>50</td>\n",
       "      <td>1</td>\n",
       "    </tr>\n",
       "    <tr>\n",
       "      <th>1</th>\n",
       "      <td>1</td>\n",
       "      <td>85</td>\n",
       "      <td>66</td>\n",
       "      <td>29</td>\n",
       "      <td>0</td>\n",
       "      <td>26.6</td>\n",
       "      <td>0.351</td>\n",
       "      <td>31</td>\n",
       "      <td>0</td>\n",
       "    </tr>\n",
       "    <tr>\n",
       "      <th>2</th>\n",
       "      <td>8</td>\n",
       "      <td>183</td>\n",
       "      <td>64</td>\n",
       "      <td>0</td>\n",
       "      <td>0</td>\n",
       "      <td>23.3</td>\n",
       "      <td>0.672</td>\n",
       "      <td>32</td>\n",
       "      <td>1</td>\n",
       "    </tr>\n",
       "    <tr>\n",
       "      <th>3</th>\n",
       "      <td>1</td>\n",
       "      <td>89</td>\n",
       "      <td>66</td>\n",
       "      <td>23</td>\n",
       "      <td>94</td>\n",
       "      <td>28.1</td>\n",
       "      <td>0.167</td>\n",
       "      <td>21</td>\n",
       "      <td>0</td>\n",
       "    </tr>\n",
       "    <tr>\n",
       "      <th>4</th>\n",
       "      <td>0</td>\n",
       "      <td>137</td>\n",
       "      <td>40</td>\n",
       "      <td>35</td>\n",
       "      <td>168</td>\n",
       "      <td>43.1</td>\n",
       "      <td>2.288</td>\n",
       "      <td>33</td>\n",
       "      <td>1</td>\n",
       "    </tr>\n",
       "    <tr>\n",
       "      <th>...</th>\n",
       "      <td>...</td>\n",
       "      <td>...</td>\n",
       "      <td>...</td>\n",
       "      <td>...</td>\n",
       "      <td>...</td>\n",
       "      <td>...</td>\n",
       "      <td>...</td>\n",
       "      <td>...</td>\n",
       "      <td>...</td>\n",
       "    </tr>\n",
       "    <tr>\n",
       "      <th>763</th>\n",
       "      <td>10</td>\n",
       "      <td>101</td>\n",
       "      <td>76</td>\n",
       "      <td>48</td>\n",
       "      <td>180</td>\n",
       "      <td>32.9</td>\n",
       "      <td>0.171</td>\n",
       "      <td>63</td>\n",
       "      <td>0</td>\n",
       "    </tr>\n",
       "    <tr>\n",
       "      <th>764</th>\n",
       "      <td>2</td>\n",
       "      <td>122</td>\n",
       "      <td>70</td>\n",
       "      <td>27</td>\n",
       "      <td>0</td>\n",
       "      <td>36.8</td>\n",
       "      <td>0.340</td>\n",
       "      <td>27</td>\n",
       "      <td>0</td>\n",
       "    </tr>\n",
       "    <tr>\n",
       "      <th>765</th>\n",
       "      <td>5</td>\n",
       "      <td>121</td>\n",
       "      <td>72</td>\n",
       "      <td>23</td>\n",
       "      <td>112</td>\n",
       "      <td>26.2</td>\n",
       "      <td>0.245</td>\n",
       "      <td>30</td>\n",
       "      <td>0</td>\n",
       "    </tr>\n",
       "    <tr>\n",
       "      <th>766</th>\n",
       "      <td>1</td>\n",
       "      <td>126</td>\n",
       "      <td>60</td>\n",
       "      <td>0</td>\n",
       "      <td>0</td>\n",
       "      <td>30.1</td>\n",
       "      <td>0.349</td>\n",
       "      <td>47</td>\n",
       "      <td>1</td>\n",
       "    </tr>\n",
       "    <tr>\n",
       "      <th>767</th>\n",
       "      <td>1</td>\n",
       "      <td>93</td>\n",
       "      <td>70</td>\n",
       "      <td>31</td>\n",
       "      <td>0</td>\n",
       "      <td>30.4</td>\n",
       "      <td>0.315</td>\n",
       "      <td>23</td>\n",
       "      <td>0</td>\n",
       "    </tr>\n",
       "  </tbody>\n",
       "</table>\n",
       "<p>768 rows × 9 columns</p>\n",
       "</div>"
      ],
      "text/plain": [
       "     Pregnancies  Glucose  Bloodpressure  Skinthickness  Insulin   BMI  \\\n",
       "0              6      148             72             35        0  33.6   \n",
       "1              1       85             66             29        0  26.6   \n",
       "2              8      183             64              0        0  23.3   \n",
       "3              1       89             66             23       94  28.1   \n",
       "4              0      137             40             35      168  43.1   \n",
       "..           ...      ...            ...            ...      ...   ...   \n",
       "763           10      101             76             48      180  32.9   \n",
       "764            2      122             70             27        0  36.8   \n",
       "765            5      121             72             23      112  26.2   \n",
       "766            1      126             60              0        0  30.1   \n",
       "767            1       93             70             31        0  30.4   \n",
       "\n",
       "     Diabetespedigreefunction  Age  Outcome  \n",
       "0                       0.627   50        1  \n",
       "1                       0.351   31        0  \n",
       "2                       0.672   32        1  \n",
       "3                       0.167   21        0  \n",
       "4                       2.288   33        1  \n",
       "..                        ...  ...      ...  \n",
       "763                     0.171   63        0  \n",
       "764                     0.340   27        0  \n",
       "765                     0.245   30        0  \n",
       "766                     0.349   47        1  \n",
       "767                     0.315   23        0  \n",
       "\n",
       "[768 rows x 9 columns]"
      ]
     },
     "execution_count": 8,
     "metadata": {},
     "output_type": "execute_result"
    }
   ],
   "source": [
    "# Affichage des données\n",
    "data"
   ]
  },
  {
   "cell_type": "code",
   "execution_count": 9,
   "metadata": {},
   "outputs": [
    {
     "name": "stdout",
     "output_type": "stream",
     "text": [
      "Pregnancies                 0\n",
      "Glucose                     0\n",
      "Bloodpressure               0\n",
      "Skinthickness               0\n",
      "Insulin                     0\n",
      "BMI                         0\n",
      "Diabetespedigreefunction    0\n",
      "Age                         0\n",
      "Outcome                     0\n",
      "dtype: int64\n"
     ]
    }
   ],
   "source": [
    "# Vérifier les valeurs manquantes par colonne\n",
    "missing_values = data.isnull().sum()\n",
    "print(missing_values)"
   ]
  },
  {
   "cell_type": "code",
   "execution_count": null,
   "metadata": {},
   "outputs": [
    {
     "name": "stdout",
     "output_type": "stream",
     "text": [
      "X:\n",
      "   Pregnancies  Glucose  Bloodpressure  Skinthickness  Insulin   BMI  \\\n",
      "0            6      148             72             35        0  33.6   \n",
      "1            1       85             66             29        0  26.6   \n",
      "2            8      183             64              0        0  23.3   \n",
      "3            1       89             66             23       94  28.1   \n",
      "4            0      137             40             35      168  43.1   \n",
      "\n",
      "   Diabetespedigreefunction  Age  \n",
      "0                     0.627   50  \n",
      "1                     0.351   31  \n",
      "2                     0.672   32  \n",
      "3                     0.167   21  \n",
      "4                     2.288   33  \n",
      "\n",
      "y:\n",
      "0    1\n",
      "1    0\n",
      "2    1\n",
      "3    0\n",
      "4    1\n",
      "Name: Outcome, dtype: int64\n"
     ]
    }
   ],
   "source": [
    "# Séparation des variables prédictives et de la variable cible\n",
    "X = data.drop('Outcome', axis=1)\n",
    "y = data['Outcome']\n",
    "# Affichage des variables X et y\n",
    "print(\"X:\")\n",
    "# Affichage des premières lignes de X\n",
    "print(X.head()) \n",
    "# Affichage des premières lignes de y   \n",
    "print(\"\\ny:\")\n",
    "print(y.head())  "
   ]
  },
  {
   "cell_type": "code",
   "execution_count": null,
   "metadata": {},
   "outputs": [
    {
     "name": "stdout",
     "output_type": "stream",
     "text": [
      "X_train:\n",
      "     Pregnancies  Glucose  Bloodpressure  Skinthickness  Insulin   BMI  \\\n",
      "60             2       84              0              0        0   0.0   \n",
      "618            9      112             82             24        0  28.2   \n",
      "346            1      139             46             19       83  28.7   \n",
      "294            0      161             50              0        0  21.9   \n",
      "231            6      134             80             37      370  46.2   \n",
      "\n",
      "     Diabetespedigreefunction  Age  \n",
      "60                      0.304   21  \n",
      "618                     1.282   50  \n",
      "346                     0.654   22  \n",
      "294                     0.254   65  \n",
      "231                     0.238   46  \n",
      "\n",
      "X_test:\n",
      "     Pregnancies  Glucose  Bloodpressure  Skinthickness  Insulin   BMI  \\\n",
      "668            6       98             58             33      190  34.0   \n",
      "324            2      112             75             32        0  35.7   \n",
      "624            2      108             64              0        0  30.8   \n",
      "690            8      107             80              0        0  24.6   \n",
      "473            7      136             90              0        0  29.9   \n",
      "\n",
      "     Diabetespedigreefunction  Age  \n",
      "668                     0.430   43  \n",
      "324                     0.148   21  \n",
      "624                     0.158   21  \n",
      "690                     0.856   34  \n",
      "473                     0.210   50  \n",
      "\n",
      "y_train:\n",
      "60     0\n",
      "618    1\n",
      "346    0\n",
      "294    0\n",
      "231    1\n",
      "Name: Outcome, dtype: int64\n",
      "\n",
      "y_test:\n",
      "668    0\n",
      "324    0\n",
      "624    0\n",
      "690    0\n",
      "473    0\n",
      "Name: Outcome, dtype: int64\n",
      "Nombre de lignes dans X_train: 614\n",
      "Nombre de lignes dans X_test: 154\n",
      "Nombre de lignes dans y_train: 614\n",
      "Nombre de lignes dans y_test: 154\n"
     ]
    }
   ],
   "source": [
    "\n",
    "# Division des données en ensembles d'entraînement et de test\n",
    "X_train, X_test, y_train, y_test = train_test_split(X, y, test_size=0.2, random_state=42)\n",
    "\n",
    "# Affichage des variables\n",
    "print(\"X_train:\")\n",
    "print(X_train.head())  # Affichage des premières lignes de X_train\n",
    "print(\"\\nX_test:\")\n",
    "print(X_test.head())  # Affichage des premières lignes de X_test\n",
    "print(\"\\ny_train:\")\n",
    "print(y_train.head())  # Affichage des premières lignes de y_train\n",
    "print(\"\\ny_test:\")\n",
    "print(y_test.head())  # Affichage des premières lignes de y_test\n",
    "\n",
    "# Afficher le nombre de lignes de chaque variable\n",
    "print(f\"Nombre de lignes dans X_train: {len(X_train)}\")\n",
    "print(f\"Nombre de lignes dans X_test: {len(X_test)}\")\n",
    "print(f\"Nombre de lignes dans y_train: {len(y_train)}\")\n",
    "print(f\"Nombre de lignes dans y_test: {len(y_test)}\")"
   ]
  },
  {
   "cell_type": "markdown",
   "metadata": {},
   "source": [
    "Remarque : Le nombre de lignes X_train + X_test = y_train + y_test = au nombre de lignes de notre dataset = 768 lignes"
   ]
  },
  {
   "cell_type": "code",
   "execution_count": null,
   "metadata": {},
   "outputs": [
    {
     "name": "stdout",
     "output_type": "stream",
     "text": [
      "Prédictions du modèle Logistic Regression: [0 0 0 0 0 0 0 1 1 1 0 1 0 0 0 0 0 0 1 1 0 0 1 0 1 1 0 0 0 0 1 1 1 1 1 1 1\n",
      " 0 1 1 0 1 1 0 0 1 1 0 0 1 0 1 1 0 0 0 1 0 0 1 1 0 0 0 0 1 0 1 0 1 1 0 0 0\n",
      " 0 1 0 0 0 0 1 0 0 0 0 1 1 0 0 0 0 0 0 1 1 1 0 0 1 0 1 0 1 1 1 0 0 1 0 1 0\n",
      " 0 0 1 0 0 1 0 0 1 0 0 0 0 0 0 0 1 1 1 1 1 0 0 1 0 0 1 1 0 0 0 0 0 0 0 0 0\n",
      " 0 1 0 0 0 0]\n",
      "Nombre de prédictions du modèle Logistic Regression: 154\n",
      "La matrice de confusion : \n",
      "[[78 21]\n",
      " [18 37]]\n",
      "\n",
      "Métriques pour le modèle Logistic Regression:\n",
      "Precision: 0.6379310344827587\n",
      "Recall: 0.6727272727272727\n",
      "F1-score: 0.6548672566371682\n",
      "Support - Class 0: 99\n",
      "Support - Class 1: 55\n",
      "Accuracy : 0.7467532467532467\n",
      "\n",
      "Les données à prédire : [[6, 148, 72, 35, 0, 33.6, 0.627, 40], [6, 148, 72, 35, 0, 33.6, 0.627, 60]]\n",
      "Les classes prédictes de ces données : [1 1]\n",
      "\n",
      "Prédictions du modèle Decision Tree: [0 0 0 0 0 0 0 0 0 0 0 1 1 1 0 0 0 0 0 0 1 0 0 0 0 1 0 0 0 0 1 1 1 1 0 1 1\n",
      " 0 0 1 0 1 1 1 0 1 1 0 0 1 0 1 1 0 0 0 0 0 0 0 1 0 0 0 0 0 0 1 0 1 1 0 0 0\n",
      " 0 1 0 0 0 0 1 0 0 1 1 1 1 1 1 0 0 0 0 0 1 0 1 0 1 0 1 0 1 0 1 0 0 1 0 1 0\n",
      " 1 0 1 1 1 1 0 0 0 0 0 0 0 1 0 1 1 1 1 1 1 0 0 1 1 0 1 1 0 0 0 0 0 0 0 0 0\n",
      " 0 1 0 1 0 0]\n",
      "Nombre de prédictions du modèle Decision Tree: 154\n",
      "La matrice de confusion : \n",
      "[[78 21]\n",
      " [18 37]]\n",
      "\n",
      "Métriques pour le modèle Decision Tree:\n",
      "Precision: 0.6379310344827587\n",
      "Recall: 0.6727272727272727\n",
      "F1-score: 0.6548672566371682\n",
      "Support - Class 0: 99\n",
      "Support - Class 1: 55\n",
      "Accuracy : 0.7467532467532467\n",
      "\n",
      "Les données à prédire : [[6, 148, 72, 35, 0, 33.6, 0.627, 40], [6, 148, 72, 35, 0, 33.6, 0.627, 60]]\n",
      "Les classes prédictes de ces données : [1 1]\n",
      "\n",
      "Prédictions du modèle Naive Bayes: [0 0 0 0 1 1 0 1 0 1 0 1 1 0 0 0 0 0 1 0 0 0 1 0 1 1 0 0 0 0 1 1 1 1 1 1 1\n",
      " 0 1 0 0 0 0 1 0 1 1 0 0 1 0 1 1 0 0 0 1 0 0 1 1 0 1 1 0 1 0 1 0 1 1 0 0 0\n",
      " 0 1 0 0 0 0 1 0 0 0 0 1 1 0 0 0 0 0 0 0 0 0 0 0 1 0 1 0 1 0 1 0 0 1 0 1 0\n",
      " 0 0 1 0 0 1 0 0 1 0 0 0 0 0 1 0 1 1 1 1 1 0 1 1 0 0 1 1 0 0 0 0 1 0 0 0 0\n",
      " 0 1 0 0 1 0]\n",
      "Nombre de prédictions du modèle Naive Bayes: 154\n",
      "La matrice de confusion : \n",
      "[[79 20]\n",
      " [16 39]]\n",
      "\n",
      "Métriques pour le modèle Naive Bayes:\n",
      "Precision: 0.6610169491525424\n",
      "Recall: 0.7090909090909091\n",
      "F1-score: 0.6842105263157895\n",
      "Support - Class 0: 99\n",
      "Support - Class 1: 55\n",
      "Accuracy : 0.7662337662337663\n",
      "\n",
      "Les données à prédire : [[6, 148, 72, 35, 0, 33.6, 0.627, 40], [6, 148, 72, 35, 0, 33.6, 0.627, 60]]\n",
      "Les classes prédictes de ces données : [1 1]\n",
      "\n"
     ]
    },
    {
     "name": "stderr",
     "output_type": "stream",
     "text": [
      "c:\\Users\\Lenovo\\AppData\\Local\\Programs\\Python\\Python311\\Lib\\site-packages\\sklearn\\base.py:420: UserWarning: X does not have valid feature names, but LogisticRegression was fitted with feature names\n",
      "  warnings.warn(\n",
      "c:\\Users\\Lenovo\\AppData\\Local\\Programs\\Python\\Python311\\Lib\\site-packages\\sklearn\\base.py:420: UserWarning: X does not have valid feature names, but DecisionTreeClassifier was fitted with feature names\n",
      "  warnings.warn(\n",
      "c:\\Users\\Lenovo\\AppData\\Local\\Programs\\Python\\Python311\\Lib\\site-packages\\sklearn\\base.py:420: UserWarning: X does not have valid feature names, but GaussianNB was fitted with feature names\n",
      "  warnings.warn(\n"
     ]
    },
    {
     "name": "stdout",
     "output_type": "stream",
     "text": [
      "Prédictions du modèle SVM: [0 0 0 0 0 0 0 0 1 1 0 1 0 0 0 0 0 0 1 0 0 0 0 0 0 1 0 0 0 0 1 1 1 1 0 1 1\n",
      " 0 0 1 0 0 0 0 0 1 0 0 0 1 0 1 1 0 0 0 1 0 0 1 1 0 0 0 0 1 0 0 0 1 0 0 0 0\n",
      " 0 0 0 0 0 0 1 0 0 0 0 1 1 0 0 0 0 0 0 0 0 1 0 0 1 0 1 0 0 1 1 0 0 1 0 0 0\n",
      " 1 0 1 0 0 1 0 0 0 0 0 0 0 0 0 0 1 1 1 1 1 0 0 1 0 0 1 1 0 0 0 0 1 0 0 0 0\n",
      " 0 1 0 0 0 0]\n",
      "Nombre de prédictions du modèle SVM: 154\n",
      "La matrice de confusion : \n",
      "[[87 12]\n",
      " [24 31]]\n",
      "\n",
      "Métriques pour le modèle SVM:\n",
      "Precision: 0.7209302325581395\n",
      "Recall: 0.5636363636363636\n",
      "F1-score: 0.6326530612244898\n",
      "Support - Class 0: 99\n",
      "Support - Class 1: 55\n",
      "Accuracy : 0.7662337662337663\n",
      "\n",
      "Les données à prédire : [[6, 148, 72, 35, 0, 33.6, 0.627, 40], [6, 148, 72, 35, 0, 33.6, 0.627, 60]]\n",
      "Les classes prédictes de ces données : [1 1]\n",
      "\n"
     ]
    },
    {
     "name": "stderr",
     "output_type": "stream",
     "text": [
      "c:\\Users\\Lenovo\\AppData\\Local\\Programs\\Python\\Python311\\Lib\\site-packages\\sklearn\\base.py:420: UserWarning: X does not have valid feature names, but SVC was fitted with feature names\n",
      "  warnings.warn(\n"
     ]
    },
    {
     "data": {
      "image/png": "[encoded data removed]",
      "text/plain": [
       "<Figure size 640x480 with 1 Axes>"
      ]
     },
     "metadata": {},
     "output_type": "display_data"
    }
   ],
   "source": [
    "# Initialisation des modèles\n",
    "models = {\n",
    "    'Logistic Regression': LogisticRegression(max_iter=1000),\n",
    "    'Decision Tree': DecisionTreeClassifier(),\n",
    "    'Naive Bayes': GaussianNB(),\n",
    "    'SVM': SVC(probability=True)  \n",
    "}\n",
    "\n",
    "# Prédictions pour chaque modèle sur les nouvelles données\n",
    "for name, model in models.items():\n",
    "    model.fit(X_train, y_train)  # Entraîner sur l'ensemble d'entraînement\n",
    "    \n",
    "    # Prédictions sur l'ensemble de test\n",
    "    predictions = model.predict(X_test)\n",
    "\n",
    "    # Affichage des prédictions du modèle\n",
    "    print(f\"Prédictions du modèle {name}: {predictions}\")\n",
    "\n",
    "    # Affichage du nombre de prédictions\n",
    "    print(f\"Nombre de prédictions du modèle {name}: {len(predictions)}\")\n",
    "    \n",
    "    # Making the Confusion Matrix\n",
    "    from sklearn.metrics import confusion_matrix\n",
    "    cm = confusion_matrix(y_test, predictions)\n",
    "    print(f\"La matrice de confusion : \")\n",
    "    print(cm)\n",
    "\n",
    "    # Calcul des probabilités prédites pour la courbe de précision-rappel\n",
    "    y_scores = model.predict_proba(X_test)[:, 1]\n",
    "    \n",
    "    # Calcul des valeurs pour la courbe de précision-rappel\n",
    "    precision_curve, recall_curve, _ = precision_recall_curve(y_test, y_scores)\n",
    "    \n",
    "    # Affichage des métriques pour chaque modèle\n",
    "    precision, recall, f1, _ = precision_recall_fscore_support(y_test, predictions, average='binary')\n",
    "\n",
    "    # Calculer le taux de performance du modèle\n",
    "    accuracy = model.score(X_test, y_test)\n",
    "\n",
    "    # Calculer le support pour chaque classe\n",
    "    support_class_0 = y_test.value_counts()[0]\n",
    "    support_class_1 = y_test.value_counts()[1]\n",
    "\n",
    "    print(f\"\\nMétriques pour le modèle {name}:\")\n",
    "    print(f\"Precision: {precision}\")\n",
    "    print(f\"Recall: {recall}\")\n",
    "    print(f\"F1-score: {f1}\")\n",
    "    print(f\"Support - Class 0: {support_class_0}\")\n",
    "    print(f\"Support - Class 1: {support_class_1}\")\n",
    "    print(f\"Accuracy : {accuracy}\\n\")\n",
    "\n",
    "    # Exemple de données à prédire\n",
    "    Test_Data = [\n",
    "        [6, 148, 72, 35, 0, 33.6, 0.627, 40],\n",
    "        [6, 148, 72, 35, 0, 33.6, 0.627, 60]\n",
    "    ]\n",
    "    print(f\"Les données à prédire : {Test_Data}\")\n",
    "    # Prediction \n",
    "    predict = model.predict(Test_Data)\n",
    "    print(f\"Les classes prédictes de ces données : {predict}\\n\")\n",
    "    \n",
    "    # Tracé de la courbe de précision-rappel pour chaque modèle\n",
    "    plt.plot(recall_curve, precision_curve, label=name)\n",
    "\n",
    "plt.xlabel('Recall')\n",
    "plt.ylabel('Precision')\n",
    "plt.title('Precision-Recall Curve')\n",
    "plt.legend()\n",
    "plt.show()\n"
   ]
  }
 ],
 "metadata": {
  "kernelspec": {
   "display_name": "Python 3",
   "language": "python",
   "name": "python3"
  },
  "language_info": {
   "codemirror_mode": {
    "name": "ipython",
    "version": 3
   },
   "file_extension": ".py",
   "mimetype": "text/x-python",
   "name": "python",
   "nbconvert_exporter": "python",
   "pygments_lexer": "ipython3",
   "version": "3.11.1"
  }
 },
 "nbformat": 4,
 "nbformat_minor": 2
}
